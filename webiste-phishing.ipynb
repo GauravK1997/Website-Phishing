{
 "cells": [
  {
   "cell_type": "markdown",
   "id": "d3796a04",
   "metadata": {},
   "source": [
    "## Problem Statement\n",
    "\n",
    "Identifying different features related to legitimate and phishy websites, data from 1353 different websites from difference sources was collected. When a website is considered 'Suspicious' that means it can be either phishy or legitimate, meaning the website held some legit and phishy features. The values are encoded as follows :\n",
    "\n",
    "1 : Legitimate\n",
    "\n",
    "0 : Suspicious\n",
    "\n",
    "-1 : Phishy\n",
    "\n",
    "Build a Classifier to predict whether a Website is either Legitimate or Suspicious or Phishy"
   ]
  },
  {
   "cell_type": "code",
   "execution_count": 1,
   "id": "90df4a97",
   "metadata": {},
   "outputs": [],
   "source": [
    "import numpy as np\n",
    "import pandas as pd\n",
    "import matplotlib.pyplot as plt\n",
    "%matplotlib inline\n",
    "import seaborn as sns\n",
    "\n",
    "from sklearn.model_selection import train_test_split\n",
    "from imblearn.over_sampling import RandomOverSampler\n",
    "\n",
    "from sklearn.linear_model import LogisticRegression\n",
    "from sklearn.neighbors import KNeighborsClassifier\n",
    "from sklearn.svm import SVC\n",
    "\n",
    "from sklearn.model_selection import GridSearchCV\n",
    "\n",
    "from sklearn.metrics import classification_report, plot_confusion_matrix\n",
    "\n",
    "import pickle"
   ]
  },
  {
   "cell_type": "code",
   "execution_count": 2,
   "id": "d6d39f60",
   "metadata": {},
   "outputs": [
    {
     "data": {
      "text/html": [
       "<div>\n",
       "<style scoped>\n",
       "    .dataframe tbody tr th:only-of-type {\n",
       "        vertical-align: middle;\n",
       "    }\n",
       "\n",
       "    .dataframe tbody tr th {\n",
       "        vertical-align: top;\n",
       "    }\n",
       "\n",
       "    .dataframe thead th {\n",
       "        text-align: right;\n",
       "    }\n",
       "</style>\n",
       "<table border=\"1\" class=\"dataframe\">\n",
       "  <thead>\n",
       "    <tr style=\"text-align: right;\">\n",
       "      <th></th>\n",
       "      <th>SFH</th>\n",
       "      <th>popUpWidnow</th>\n",
       "      <th>SSLfinal_State</th>\n",
       "      <th>Request_URL</th>\n",
       "      <th>URL_of_Anchor</th>\n",
       "      <th>web_traffic</th>\n",
       "      <th>URL_Length</th>\n",
       "      <th>age_of_domain</th>\n",
       "      <th>having_IP_Address</th>\n",
       "      <th>Result</th>\n",
       "    </tr>\n",
       "  </thead>\n",
       "  <tbody>\n",
       "    <tr>\n",
       "      <th>0</th>\n",
       "      <td>1</td>\n",
       "      <td>-1</td>\n",
       "      <td>1</td>\n",
       "      <td>-1</td>\n",
       "      <td>-1</td>\n",
       "      <td>1</td>\n",
       "      <td>1</td>\n",
       "      <td>1</td>\n",
       "      <td>0</td>\n",
       "      <td>0</td>\n",
       "    </tr>\n",
       "    <tr>\n",
       "      <th>1</th>\n",
       "      <td>-1</td>\n",
       "      <td>-1</td>\n",
       "      <td>-1</td>\n",
       "      <td>-1</td>\n",
       "      <td>-1</td>\n",
       "      <td>0</td>\n",
       "      <td>1</td>\n",
       "      <td>1</td>\n",
       "      <td>1</td>\n",
       "      <td>1</td>\n",
       "    </tr>\n",
       "    <tr>\n",
       "      <th>2</th>\n",
       "      <td>1</td>\n",
       "      <td>-1</td>\n",
       "      <td>0</td>\n",
       "      <td>0</td>\n",
       "      <td>-1</td>\n",
       "      <td>0</td>\n",
       "      <td>-1</td>\n",
       "      <td>1</td>\n",
       "      <td>0</td>\n",
       "      <td>1</td>\n",
       "    </tr>\n",
       "    <tr>\n",
       "      <th>3</th>\n",
       "      <td>1</td>\n",
       "      <td>0</td>\n",
       "      <td>1</td>\n",
       "      <td>-1</td>\n",
       "      <td>-1</td>\n",
       "      <td>0</td>\n",
       "      <td>1</td>\n",
       "      <td>1</td>\n",
       "      <td>0</td>\n",
       "      <td>0</td>\n",
       "    </tr>\n",
       "    <tr>\n",
       "      <th>4</th>\n",
       "      <td>-1</td>\n",
       "      <td>-1</td>\n",
       "      <td>1</td>\n",
       "      <td>-1</td>\n",
       "      <td>0</td>\n",
       "      <td>0</td>\n",
       "      <td>-1</td>\n",
       "      <td>1</td>\n",
       "      <td>0</td>\n",
       "      <td>1</td>\n",
       "    </tr>\n",
       "  </tbody>\n",
       "</table>\n",
       "</div>"
      ],
      "text/plain": [
       "   SFH  popUpWidnow  SSLfinal_State  Request_URL  URL_of_Anchor  web_traffic  \\\n",
       "0    1           -1               1           -1             -1            1   \n",
       "1   -1           -1              -1           -1             -1            0   \n",
       "2    1           -1               0            0             -1            0   \n",
       "3    1            0               1           -1             -1            0   \n",
       "4   -1           -1               1           -1              0            0   \n",
       "\n",
       "   URL_Length  age_of_domain  having_IP_Address  Result  \n",
       "0           1              1                  0       0  \n",
       "1           1              1                  1       1  \n",
       "2          -1              1                  0       1  \n",
       "3           1              1                  0       0  \n",
       "4          -1              1                  0       1  "
      ]
     },
     "execution_count": 2,
     "metadata": {},
     "output_type": "execute_result"
    }
   ],
   "source": [
    "data = pd.read_csv('Website Phishing.csv')\n",
    "data.head()"
   ]
  },
  {
   "cell_type": "code",
   "execution_count": 3,
   "id": "12bc03e9",
   "metadata": {},
   "outputs": [
    {
     "data": {
      "text/plain": [
       "(1353, 10)"
      ]
     },
     "execution_count": 3,
     "metadata": {},
     "output_type": "execute_result"
    }
   ],
   "source": [
    "df = data.copy()\n",
    "df.shape"
   ]
  },
  {
   "cell_type": "code",
   "execution_count": 4,
   "id": "57f8c2bf",
   "metadata": {},
   "outputs": [
    {
     "name": "stdout",
     "output_type": "stream",
     "text": [
      "<class 'pandas.core.frame.DataFrame'>\n",
      "RangeIndex: 1353 entries, 0 to 1352\n",
      "Data columns (total 10 columns):\n",
      " #   Column             Non-Null Count  Dtype\n",
      "---  ------             --------------  -----\n",
      " 0   SFH                1353 non-null   int64\n",
      " 1   popUpWidnow        1353 non-null   int64\n",
      " 2   SSLfinal_State     1353 non-null   int64\n",
      " 3   Request_URL        1353 non-null   int64\n",
      " 4   URL_of_Anchor      1353 non-null   int64\n",
      " 5   web_traffic        1353 non-null   int64\n",
      " 6   URL_Length         1353 non-null   int64\n",
      " 7   age_of_domain      1353 non-null   int64\n",
      " 8   having_IP_Address  1353 non-null   int64\n",
      " 9   Result             1353 non-null   int64\n",
      "dtypes: int64(10)\n",
      "memory usage: 105.8 KB\n"
     ]
    }
   ],
   "source": [
    "df.info()"
   ]
  },
  {
   "cell_type": "markdown",
   "id": "ccd9841f",
   "metadata": {},
   "source": [
    "### No null values present within the dataset\n",
    "### No features with dtype = 'object'"
   ]
  },
  {
   "cell_type": "markdown",
   "id": "056bd277",
   "metadata": {},
   "source": [
    "## Correlation Heatmap"
   ]
  },
  {
   "cell_type": "code",
   "execution_count": 5,
   "id": "3e7aafde",
   "metadata": {},
   "outputs": [
    {
     "data": {
      "image/png": "[encoded data removed]",
      "text/plain": [
       "<Figure size 720x576 with 2 Axes>"
      ]
     },
     "metadata": {
      "needs_background": "light"
     },
     "output_type": "display_data"
    }
   ],
   "source": [
    "corr = df.corr()\n",
    "\n",
    "plt.figure(figsize=(10, 8))\n",
    "sns.heatmap(corr, annot=True, cmap='RdYlGn')\n",
    "plt.show()"
   ]
  },
  {
   "cell_type": "markdown",
   "id": "a97a89e5",
   "metadata": {},
   "source": [
    "### There isn't enough correlation among the input features in order to drop any"
   ]
  },
  {
   "cell_type": "code",
   "execution_count": 6,
   "id": "57b1dc61",
   "metadata": {},
   "outputs": [
    {
     "data": {
      "text/plain": [
       "array([ 0,  1, -1], dtype=int64)"
      ]
     },
     "execution_count": 6,
     "metadata": {},
     "output_type": "execute_result"
    }
   ],
   "source": [
    "# 3 O/P classes\n",
    "df['Result'].unique()"
   ]
  },
  {
   "cell_type": "code",
   "execution_count": 7,
   "id": "8fde05aa",
   "metadata": {},
   "outputs": [
    {
     "data": {
      "text/plain": [
       "-1    702\n",
       " 1    548\n",
       " 0    103\n",
       "Name: Result, dtype: int64"
      ]
     },
     "execution_count": 7,
     "metadata": {},
     "output_type": "execute_result"
    }
   ],
   "source": [
    "# We can clearly see a case of an Imbalanced Dataset here\n",
    "\n",
    "df['Result'].value_counts()"
   ]
  },
  {
   "cell_type": "code",
   "execution_count": 8,
   "id": "cff4837d",
   "metadata": {},
   "outputs": [
    {
     "data": {
      "image/png": "[encoded data removed]",
      "text/plain": [
       "<Figure size 432x288 with 1 Axes>"
      ]
     },
     "metadata": {
      "needs_background": "light"
     },
     "output_type": "display_data"
    }
   ],
   "source": [
    "# Visualizing the Imbalance nature of the dataset\n",
    "\n",
    "Labels = [\"Class -1\", \"Class 1\", \"Class 0\"]\n",
    "\n",
    "count_classes = df['Result'].value_counts()\n",
    "\n",
    "count_classes.plot(kind = 'bar')\n",
    "\n",
    "plt.title(\"Result Class Distribution\\n\")\n",
    "plt.xticks([0, 1, 2], Labels)\n",
    "plt.xlabel(\"\\nResult\")\n",
    "plt.ylabel(\"Frequency\\n\")\n",
    "plt.show()"
   ]
  },
  {
   "cell_type": "markdown",
   "id": "5501fc0a",
   "metadata": {},
   "source": [
    "### There is an imbalanceness present within the dataset which needs to be handled"
   ]
  },
  {
   "cell_type": "markdown",
   "id": "7fab1d88",
   "metadata": {},
   "source": [
    "## Train-Test Split"
   ]
  },
  {
   "cell_type": "code",
   "execution_count": 9,
   "id": "5d9fdc58",
   "metadata": {},
   "outputs": [],
   "source": [
    "X = df.drop(['Result'], axis=1)"
   ]
  },
  {
   "cell_type": "code",
   "execution_count": 10,
   "id": "d03117b7",
   "metadata": {},
   "outputs": [
    {
     "data": {
      "text/html": [
       "<div>\n",
       "<style scoped>\n",
       "    .dataframe tbody tr th:only-of-type {\n",
       "        vertical-align: middle;\n",
       "    }\n",
       "\n",
       "    .dataframe tbody tr th {\n",
       "        vertical-align: top;\n",
       "    }\n",
       "\n",
       "    .dataframe thead th {\n",
       "        text-align: right;\n",
       "    }\n",
       "</style>\n",
       "<table border=\"1\" class=\"dataframe\">\n",
       "  <thead>\n",
       "    <tr style=\"text-align: right;\">\n",
       "      <th></th>\n",
       "      <th>SFH</th>\n",
       "      <th>popUpWidnow</th>\n",
       "      <th>SSLfinal_State</th>\n",
       "      <th>Request_URL</th>\n",
       "      <th>URL_of_Anchor</th>\n",
       "      <th>web_traffic</th>\n",
       "      <th>URL_Length</th>\n",
       "      <th>age_of_domain</th>\n",
       "      <th>having_IP_Address</th>\n",
       "    </tr>\n",
       "  </thead>\n",
       "  <tbody>\n",
       "    <tr>\n",
       "      <th>0</th>\n",
       "      <td>1</td>\n",
       "      <td>-1</td>\n",
       "      <td>1</td>\n",
       "      <td>-1</td>\n",
       "      <td>-1</td>\n",
       "      <td>1</td>\n",
       "      <td>1</td>\n",
       "      <td>1</td>\n",
       "      <td>0</td>\n",
       "    </tr>\n",
       "    <tr>\n",
       "      <th>1</th>\n",
       "      <td>-1</td>\n",
       "      <td>-1</td>\n",
       "      <td>-1</td>\n",
       "      <td>-1</td>\n",
       "      <td>-1</td>\n",
       "      <td>0</td>\n",
       "      <td>1</td>\n",
       "      <td>1</td>\n",
       "      <td>1</td>\n",
       "    </tr>\n",
       "    <tr>\n",
       "      <th>2</th>\n",
       "      <td>1</td>\n",
       "      <td>-1</td>\n",
       "      <td>0</td>\n",
       "      <td>0</td>\n",
       "      <td>-1</td>\n",
       "      <td>0</td>\n",
       "      <td>-1</td>\n",
       "      <td>1</td>\n",
       "      <td>0</td>\n",
       "    </tr>\n",
       "    <tr>\n",
       "      <th>3</th>\n",
       "      <td>1</td>\n",
       "      <td>0</td>\n",
       "      <td>1</td>\n",
       "      <td>-1</td>\n",
       "      <td>-1</td>\n",
       "      <td>0</td>\n",
       "      <td>1</td>\n",
       "      <td>1</td>\n",
       "      <td>0</td>\n",
       "    </tr>\n",
       "    <tr>\n",
       "      <th>4</th>\n",
       "      <td>-1</td>\n",
       "      <td>-1</td>\n",
       "      <td>1</td>\n",
       "      <td>-1</td>\n",
       "      <td>0</td>\n",
       "      <td>0</td>\n",
       "      <td>-1</td>\n",
       "      <td>1</td>\n",
       "      <td>0</td>\n",
       "    </tr>\n",
       "  </tbody>\n",
       "</table>\n",
       "</div>"
      ],
      "text/plain": [
       "   SFH  popUpWidnow  SSLfinal_State  Request_URL  URL_of_Anchor  web_traffic  \\\n",
       "0    1           -1               1           -1             -1            1   \n",
       "1   -1           -1              -1           -1             -1            0   \n",
       "2    1           -1               0            0             -1            0   \n",
       "3    1            0               1           -1             -1            0   \n",
       "4   -1           -1               1           -1              0            0   \n",
       "\n",
       "   URL_Length  age_of_domain  having_IP_Address  \n",
       "0           1              1                  0  \n",
       "1           1              1                  1  \n",
       "2          -1              1                  0  \n",
       "3           1              1                  0  \n",
       "4          -1              1                  0  "
      ]
     },
     "execution_count": 10,
     "metadata": {},
     "output_type": "execute_result"
    }
   ],
   "source": [
    "X.head()"
   ]
  },
  {
   "cell_type": "code",
   "execution_count": 11,
   "id": "657e70ce",
   "metadata": {},
   "outputs": [
    {
     "data": {
      "text/plain": [
       "0    0\n",
       "1    1\n",
       "2    1\n",
       "3    0\n",
       "4    1\n",
       "Name: Result, dtype: int64"
      ]
     },
     "execution_count": 11,
     "metadata": {},
     "output_type": "execute_result"
    }
   ],
   "source": [
    "y = df['Result']\n",
    "y.head()"
   ]
  },
  {
   "cell_type": "code",
   "execution_count": 12,
   "id": "513764fd",
   "metadata": {},
   "outputs": [],
   "source": [
    "X_train, X_test, y_train, y_test = train_test_split(X, y, test_size=0.33, random_state=42)"
   ]
  },
  {
   "cell_type": "code",
   "execution_count": 13,
   "id": "f17db6bc",
   "metadata": {},
   "outputs": [
    {
     "data": {
      "text/plain": [
       "-1    474\n",
       " 1    364\n",
       " 0     68\n",
       "Name: Result, dtype: int64"
      ]
     },
     "execution_count": 13,
     "metadata": {},
     "output_type": "execute_result"
    }
   ],
   "source": [
    "y_train.value_counts()"
   ]
  },
  {
   "cell_type": "code",
   "execution_count": 14,
   "id": "2894d98e",
   "metadata": {},
   "outputs": [
    {
     "data": {
      "text/plain": [
       "-1    228\n",
       " 1    184\n",
       " 0     35\n",
       "Name: Result, dtype: int64"
      ]
     },
     "execution_count": 14,
     "metadata": {},
     "output_type": "execute_result"
    }
   ],
   "source": [
    "y_test.value_counts()"
   ]
  },
  {
   "cell_type": "markdown",
   "id": "070e0d52",
   "metadata": {},
   "source": [
    "### Performing OverSampling using RandomOverSampler() method from imblearn library"
   ]
  },
  {
   "cell_type": "code",
   "execution_count": 15,
   "id": "2583e888",
   "metadata": {},
   "outputs": [],
   "source": [
    "sampler = RandomOverSampler()"
   ]
  },
  {
   "cell_type": "markdown",
   "id": "5000aa77",
   "metadata": {},
   "source": [
    "### Resampling separately for Train data & Test data, in order to avoid Data Leakage"
   ]
  },
  {
   "cell_type": "code",
   "execution_count": 16,
   "id": "49cf902f",
   "metadata": {},
   "outputs": [],
   "source": [
    "X_train_resampled, y_train_resampled = sampler.fit_resample(X_train, y_train)"
   ]
  },
  {
   "cell_type": "code",
   "execution_count": 17,
   "id": "9bc2bd58",
   "metadata": {},
   "outputs": [
    {
     "data": {
      "text/plain": [
       "-1    474\n",
       " 1    474\n",
       " 0    474\n",
       "Name: Result, dtype: int64"
      ]
     },
     "execution_count": 17,
     "metadata": {},
     "output_type": "execute_result"
    }
   ],
   "source": [
    "y_train_resampled.value_counts()"
   ]
  },
  {
   "cell_type": "code",
   "execution_count": 18,
   "id": "b60b72c7",
   "metadata": {},
   "outputs": [],
   "source": [
    "X_test_resampled, y_test_resampled = sampler.fit_resample(X_test, y_test)"
   ]
  },
  {
   "cell_type": "code",
   "execution_count": 19,
   "id": "5de80811",
   "metadata": {},
   "outputs": [
    {
     "data": {
      "text/plain": [
       " 0    228\n",
       " 1    228\n",
       "-1    228\n",
       "Name: Result, dtype: int64"
      ]
     },
     "execution_count": 19,
     "metadata": {},
     "output_type": "execute_result"
    }
   ],
   "source": [
    "y_test_resampled.value_counts()"
   ]
  },
  {
   "cell_type": "markdown",
   "id": "5599dbb7",
   "metadata": {},
   "source": [
    "### As the dataset contains only the values: -1, 0 & 1, there isn't any need to perform Feature Scaling"
   ]
  },
  {
   "cell_type": "markdown",
   "id": "2837d713",
   "metadata": {},
   "source": [
    "## Model Building"
   ]
  },
  {
   "cell_type": "markdown",
   "id": "7cc3ede5",
   "metadata": {},
   "source": [
    "## 1. Logistic Regression"
   ]
  },
  {
   "cell_type": "code",
   "execution_count": 20,
   "id": "b9cb21e7",
   "metadata": {},
   "outputs": [],
   "source": [
    "log = LogisticRegression()"
   ]
  },
  {
   "cell_type": "code",
   "execution_count": 21,
   "id": "14bfbfff",
   "metadata": {},
   "outputs": [],
   "source": [
    "log_model = log.fit(X_train_resampled, y_train_resampled)"
   ]
  },
  {
   "cell_type": "code",
   "execution_count": 22,
   "id": "8c1d324c",
   "metadata": {},
   "outputs": [
    {
     "data": {
      "text/plain": [
       "0.7383040935672515"
      ]
     },
     "execution_count": 22,
     "metadata": {},
     "output_type": "execute_result"
    }
   ],
   "source": [
    "log_model.score(X_test_resampled, y_test_resampled)"
   ]
  },
  {
   "cell_type": "markdown",
   "id": "051bc862",
   "metadata": {},
   "source": [
    "## 2. KNN"
   ]
  },
  {
   "cell_type": "code",
   "execution_count": 23,
   "id": "fded586a",
   "metadata": {},
   "outputs": [],
   "source": [
    "knn = KNeighborsClassifier()"
   ]
  },
  {
   "cell_type": "code",
   "execution_count": 24,
   "id": "b6548161",
   "metadata": {},
   "outputs": [],
   "source": [
    "knn_model = knn.fit(X_train_resampled, y_train_resampled)"
   ]
  },
  {
   "cell_type": "code",
   "execution_count": 25,
   "id": "aca9028f",
   "metadata": {},
   "outputs": [
    {
     "data": {
      "text/plain": [
       "0.8771929824561403"
      ]
     },
     "execution_count": 25,
     "metadata": {},
     "output_type": "execute_result"
    }
   ],
   "source": [
    "knn_model.score(X_test_resampled, y_test_resampled)"
   ]
  },
  {
   "cell_type": "markdown",
   "id": "9c4317d0",
   "metadata": {},
   "source": [
    "## 3. SVC"
   ]
  },
  {
   "cell_type": "code",
   "execution_count": 26,
   "id": "d1ee8936",
   "metadata": {},
   "outputs": [],
   "source": [
    "svc = SVC()"
   ]
  },
  {
   "cell_type": "code",
   "execution_count": 27,
   "id": "2470225c",
   "metadata": {},
   "outputs": [],
   "source": [
    "svc_model = svc.fit(X_train_resampled, y_train_resampled)"
   ]
  },
  {
   "cell_type": "code",
   "execution_count": 28,
   "id": "ae4fa004",
   "metadata": {},
   "outputs": [
    {
     "data": {
      "text/plain": [
       "0.8771929824561403"
      ]
     },
     "execution_count": 28,
     "metadata": {},
     "output_type": "execute_result"
    }
   ],
   "source": [
    "svc_model.score(X_test_resampled, y_test_resampled)"
   ]
  },
  {
   "cell_type": "markdown",
   "id": "d91b2f9b",
   "metadata": {},
   "source": [
    "## Tuning the Hyperparameters of SVC model"
   ]
  },
  {
   "cell_type": "code",
   "execution_count": 29,
   "id": "a58f2470",
   "metadata": {},
   "outputs": [],
   "source": [
    "params = {\n",
    "    'C': [0.1, 1.0, 10, 100, 150, 200], \n",
    "    'gamma': ['scale', 'auto']\n",
    "} "
   ]
  },
  {
   "cell_type": "code",
   "execution_count": 30,
   "id": "a822e3ad",
   "metadata": {},
   "outputs": [],
   "source": [
    "grid_search = GridSearchCV(svc, params, cv=5, n_jobs=-1)"
   ]
  },
  {
   "cell_type": "code",
   "execution_count": 31,
   "id": "196af46e",
   "metadata": {},
   "outputs": [],
   "source": [
    "best_model = grid_search.fit(X_train_resampled, y_train_resampled)"
   ]
  },
  {
   "cell_type": "code",
   "execution_count": 32,
   "id": "2c798492",
   "metadata": {},
   "outputs": [
    {
     "data": {
      "text/plain": [
       "0.8713450292397661"
      ]
     },
     "execution_count": 32,
     "metadata": {},
     "output_type": "execute_result"
    }
   ],
   "source": [
    "best_model.score(X_test_resampled, y_test_resampled)"
   ]
  },
  {
   "cell_type": "code",
   "execution_count": 33,
   "id": "c903894c",
   "metadata": {},
   "outputs": [
    {
     "data": {
      "text/plain": [
       "SVC(C=100)"
      ]
     },
     "execution_count": 33,
     "metadata": {},
     "output_type": "execute_result"
    }
   ],
   "source": [
    "best_model.best_estimator_"
   ]
  },
  {
   "cell_type": "code",
   "execution_count": 34,
   "id": "b489515a",
   "metadata": {},
   "outputs": [
    {
     "data": {
      "text/plain": [
       "{'C': 100, 'gamma': 'scale'}"
      ]
     },
     "execution_count": 34,
     "metadata": {},
     "output_type": "execute_result"
    }
   ],
   "source": [
    "best_model.best_params_"
   ]
  },
  {
   "cell_type": "markdown",
   "id": "b7764d25",
   "metadata": {},
   "source": [
    "### Seems that the model without Hyperparameter Tuning is slightly better"
   ]
  },
  {
   "cell_type": "code",
   "execution_count": 35,
   "id": "e94a0ae7",
   "metadata": {},
   "outputs": [],
   "source": [
    "best_model = svc_model"
   ]
  },
  {
   "cell_type": "markdown",
   "id": "b4b1aece",
   "metadata": {},
   "source": [
    "## Model Performance"
   ]
  },
  {
   "cell_type": "code",
   "execution_count": 36,
   "id": "91657c6d",
   "metadata": {},
   "outputs": [],
   "source": [
    "y_pred = best_model.predict(X_test_resampled)"
   ]
  },
  {
   "cell_type": "code",
   "execution_count": 37,
   "id": "b8d994b2",
   "metadata": {},
   "outputs": [
    {
     "name": "stdout",
     "output_type": "stream",
     "text": [
      "Classification Report: \n",
      "\n",
      "               precision    recall  f1-score   support\n",
      "\n",
      "          -1       0.87      0.89      0.88       228\n",
      "           0       0.93      0.86      0.90       228\n",
      "           1       0.83      0.88      0.86       228\n",
      "\n",
      "    accuracy                           0.88       684\n",
      "   macro avg       0.88      0.88      0.88       684\n",
      "weighted avg       0.88      0.88      0.88       684\n",
      "\n"
     ]
    }
   ],
   "source": [
    "print(\"Classification Report: \\n\\n\", classification_report(y_test_resampled, y_pred))"
   ]
  },
  {
   "cell_type": "code",
   "execution_count": 38,
   "id": "fe94f71d",
   "metadata": {},
   "outputs": [
    {
     "data": {
      "image/png": "[encoded data removed]",
      "text/plain": [
       "<Figure size 432x288 with 2 Axes>"
      ]
     },
     "metadata": {
      "needs_background": "light"
     },
     "output_type": "display_data"
    }
   ],
   "source": [
    "plot_confusion_matrix(best_model, X_test_resampled, y_test_resampled)\n",
    "plt.title('Confusion Matrix\\n')\n",
    "plt.show()"
   ]
  },
  {
   "cell_type": "markdown",
   "id": "9b5f1f93",
   "metadata": {},
   "source": [
    "## Saving (Dumping) the model"
   ]
  },
  {
   "cell_type": "code",
   "execution_count": 39,
   "id": "916a6a3a",
   "metadata": {},
   "outputs": [],
   "source": [
    "# open a file, where you want to store the data\n",
    "file = open('website_phishing_svc.pkl', 'wb')\n",
    "\n",
    "# dump information to that file\n",
    "pickle.dump(best_model, file)"
   ]
  },
  {
   "cell_type": "code",
   "execution_count": 40,
   "id": "002d5aa5",
   "metadata": {},
   "outputs": [],
   "source": [
    "model = open('website_phishing_svc.pkl', 'rb')"
   ]
  },
  {
   "cell_type": "markdown",
   "id": "0e6612b0",
   "metadata": {},
   "source": [
    "## Predictions"
   ]
  },
  {
   "cell_type": "code",
   "execution_count": 41,
   "id": "d6760b71",
   "metadata": {},
   "outputs": [
    {
     "data": {
      "text/html": [
       "<div>\n",
       "<style scoped>\n",
       "    .dataframe tbody tr th:only-of-type {\n",
       "        vertical-align: middle;\n",
       "    }\n",
       "\n",
       "    .dataframe tbody tr th {\n",
       "        vertical-align: top;\n",
       "    }\n",
       "\n",
       "    .dataframe thead th {\n",
       "        text-align: right;\n",
       "    }\n",
       "</style>\n",
       "<table border=\"1\" class=\"dataframe\">\n",
       "  <thead>\n",
       "    <tr style=\"text-align: right;\">\n",
       "      <th></th>\n",
       "      <th>SFH</th>\n",
       "      <th>popUpWidnow</th>\n",
       "      <th>SSLfinal_State</th>\n",
       "      <th>Request_URL</th>\n",
       "      <th>URL_of_Anchor</th>\n",
       "      <th>web_traffic</th>\n",
       "      <th>URL_Length</th>\n",
       "      <th>age_of_domain</th>\n",
       "      <th>having_IP_Address</th>\n",
       "    </tr>\n",
       "  </thead>\n",
       "  <tbody>\n",
       "    <tr>\n",
       "      <th>0</th>\n",
       "      <td>1</td>\n",
       "      <td>1</td>\n",
       "      <td>-1</td>\n",
       "      <td>-1</td>\n",
       "      <td>1</td>\n",
       "      <td>-1</td>\n",
       "      <td>1</td>\n",
       "      <td>1</td>\n",
       "      <td>0</td>\n",
       "    </tr>\n",
       "    <tr>\n",
       "      <th>1</th>\n",
       "      <td>-1</td>\n",
       "      <td>-1</td>\n",
       "      <td>0</td>\n",
       "      <td>-1</td>\n",
       "      <td>-1</td>\n",
       "      <td>1</td>\n",
       "      <td>-1</td>\n",
       "      <td>-1</td>\n",
       "      <td>0</td>\n",
       "    </tr>\n",
       "    <tr>\n",
       "      <th>2</th>\n",
       "      <td>1</td>\n",
       "      <td>0</td>\n",
       "      <td>1</td>\n",
       "      <td>-1</td>\n",
       "      <td>1</td>\n",
       "      <td>-1</td>\n",
       "      <td>0</td>\n",
       "      <td>1</td>\n",
       "      <td>0</td>\n",
       "    </tr>\n",
       "    <tr>\n",
       "      <th>3</th>\n",
       "      <td>1</td>\n",
       "      <td>0</td>\n",
       "      <td>1</td>\n",
       "      <td>1</td>\n",
       "      <td>1</td>\n",
       "      <td>-1</td>\n",
       "      <td>0</td>\n",
       "      <td>1</td>\n",
       "      <td>0</td>\n",
       "    </tr>\n",
       "    <tr>\n",
       "      <th>4</th>\n",
       "      <td>-1</td>\n",
       "      <td>-1</td>\n",
       "      <td>1</td>\n",
       "      <td>-1</td>\n",
       "      <td>-1</td>\n",
       "      <td>0</td>\n",
       "      <td>0</td>\n",
       "      <td>1</td>\n",
       "      <td>0</td>\n",
       "    </tr>\n",
       "  </tbody>\n",
       "</table>\n",
       "</div>"
      ],
      "text/plain": [
       "   SFH  popUpWidnow  SSLfinal_State  Request_URL  URL_of_Anchor  web_traffic  \\\n",
       "0    1            1              -1           -1              1           -1   \n",
       "1   -1           -1               0           -1             -1            1   \n",
       "2    1            0               1           -1              1           -1   \n",
       "3    1            0               1            1              1           -1   \n",
       "4   -1           -1               1           -1             -1            0   \n",
       "\n",
       "   URL_Length  age_of_domain  having_IP_Address  \n",
       "0           1              1                  0  \n",
       "1          -1             -1                  0  \n",
       "2           0              1                  0  \n",
       "3           0              1                  0  \n",
       "4           0              1                  0  "
      ]
     },
     "execution_count": 41,
     "metadata": {},
     "output_type": "execute_result"
    }
   ],
   "source": [
    "test_data = X_test_resampled.head()\n",
    "test_data"
   ]
  },
  {
   "cell_type": "code",
   "execution_count": 46,
   "id": "6cfdea47",
   "metadata": {},
   "outputs": [
    {
     "data": {
      "text/plain": [
       "0    0\n",
       "1    1\n",
       "2   -1\n",
       "3   -1\n",
       "4    1\n",
       "Name: Result, dtype: int64"
      ]
     },
     "execution_count": 46,
     "metadata": {},
     "output_type": "execute_result"
    }
   ],
   "source": [
    "y_test_resampled.head()"
   ]
  },
  {
   "cell_type": "code",
   "execution_count": 42,
   "id": "78c34b5c",
   "metadata": {},
   "outputs": [
    {
     "data": {
      "text/plain": [
       "array([ 0,  1, -1, -1,  1], dtype=int64)"
      ]
     },
     "execution_count": 42,
     "metadata": {},
     "output_type": "execute_result"
    }
   ],
   "source": [
    "best_model.predict(test_data)"
   ]
  },
  {
   "cell_type": "code",
   "execution_count": 43,
   "id": "690f1981",
   "metadata": {},
   "outputs": [],
   "source": [
    "lst1 = [1,1,-1,-1,1,-1,1,1,0]"
   ]
  },
  {
   "cell_type": "code",
   "execution_count": 44,
   "id": "14b1ab4c",
   "metadata": {},
   "outputs": [
    {
     "data": {
      "text/plain": [
       "array([0], dtype=int64)"
      ]
     },
     "execution_count": 44,
     "metadata": {},
     "output_type": "execute_result"
    }
   ],
   "source": [
    "best_model.predict([[1,1,-1,-1,1,-1,1,1,0]])"
   ]
  }
 ],
 "metadata": {
  "kernelspec": {
   "display_name": "Python 3",
   "language": "python",
   "name": "python3"
  },
  "language_info": {
   "codemirror_mode": {
    "name": "ipython",
    "version": 3
   },
   "file_extension": ".py",
   "mimetype": "text/x-python",
   "name": "python",
   "nbconvert_exporter": "python",
   "pygments_lexer": "ipython3",
   "version": "3.7.10"
  }
 },
 "nbformat": 4,
 "nbformat_minor": 5
}
